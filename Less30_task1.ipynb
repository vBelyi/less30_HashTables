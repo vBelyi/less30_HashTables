{
 "cells": [
  {
   "cell_type": "code",
   "execution_count": 71,
   "id": "2b152537",
   "metadata": {},
   "outputs": [],
   "source": [
    "import numpy as np\n",
    "\n",
    "class HashTable:\n",
    "    def __init__(self, size):\n",
    "        self.size = size\n",
    "        self.table = np.empty(size, dtype=object)\n",
    "\n",
    "    def hash_function(self, key):\n",
    "        hash_value = sum(ord(c) for c in key) % self.size\n",
    "        return hash_value\n",
    "\n",
    "    def add(self, key, value):\n",
    "        hash_value = self.hash_function(key)\n",
    "        while self.table[hash_value] is not None:\n",
    "            hash_value = (hash_value + 1) % self.size\n",
    "        self.table[hash_value] = (key, value)\n",
    "\n",
    "    def get(self, key):\n",
    "        hash_value = self.hash_function(key)\n",
    "        while self.table[hash_value] is not None:\n",
    "            if self.table[hash_value][0] == key:\n",
    "                hash_codes = []\n",
    "                start_hash_value = hash_value\n",
    "                while self.table[hash_value] is not None and self.table[hash_value][0] == key:\n",
    "                    hash_codes.append(self.hash_function(self.table[hash_value][1]))\n",
    "                    hash_value = (hash_value + 1) % self.size\n",
    "                return hash_codes\n",
    "            hash_value = (hash_value + 1) % self.size\n",
    "        return None\n",
    "\n",
    "    def remove(self, key):\n",
    "        hash_value = self.hash_function(key)\n",
    "        while self.table[hash_value] is not None:\n",
    "            if self.table[hash_value][0] == key:\n",
    "                self.table[hash_value] = None\n",
    "                return\n",
    "            hash_value = (hash_value + 1) % self.size\n",
    "\n",
    "    def print_table(self):\n",
    "        for index, item in enumerate(self.table):\n",
    "            if item is not None:\n",
    "                print(f'[{index}: {item[0]}: {self.hash_function(item[1])}]')\n",
    "            else:\n",
    "                print(f'[{index}: Empty]')"
   ]
  },
  {
   "cell_type": "code",
   "execution_count": 72,
   "id": "85e5f138",
   "metadata": {},
   "outputs": [
    {
     "name": "stdout",
     "output_type": "stream",
     "text": [
      "[0: Empty]\n",
      "[1: Empty]\n",
      "[2: Empty]\n",
      "[3: Slava: 17]\n",
      "[4: Slava: 4]\n",
      "[5: Empty]\n",
      "[6: Empty]\n",
      "[7: Empty]\n",
      "[8: Empty]\n",
      "[9: Empty]\n",
      "[10: Empty]\n",
      "[11: Empty]\n",
      "[12: Empty]\n",
      "[13: Empty]\n",
      "[14: Empty]\n",
      "[15: Sveta: 7]\n",
      "[16: Empty]\n",
      "[17: Empty]\n",
      "[18: Empty]\n",
      "[19: Dima: 12]\n"
     ]
    }
   ],
   "source": [
    "# Задаємо довжину таблиці, а також добавляємо дані\n",
    "hash_table = HashTable(20)\n",
    "hash_table.add(\"Slava\", \"passw12\")\n",
    "hash_table.add(\"Slava\", \"qwerty\")\n",
    "hash_table.add(\"Sveta\", \"22338500\")\n",
    "hash_table.add(\"Dima\", \"hello22\")\n",
    "\n",
    "hash_table.print_table()"
   ]
  },
  {
   "cell_type": "code",
   "execution_count": 73,
   "id": "338dff20",
   "metadata": {},
   "outputs": [
    {
     "name": "stdout",
     "output_type": "stream",
     "text": [
      "[17, 4]\n"
     ]
    }
   ],
   "source": [
    "#Отримання хешкоду по логіну\n",
    "hash_code = hash_table.get(\"Slava\")\n",
    "print(hash_code)"
   ]
  },
  {
   "cell_type": "code",
   "execution_count": 74,
   "id": "c22d7a8f",
   "metadata": {},
   "outputs": [
    {
     "name": "stdout",
     "output_type": "stream",
     "text": [
      "[0: Empty]\n",
      "[1: Empty]\n",
      "[2: Empty]\n",
      "[3: Slava: 17]\n",
      "[4: Slava: 4]\n",
      "[5: Empty]\n",
      "[6: Empty]\n",
      "[7: Empty]\n",
      "[8: Empty]\n",
      "[9: Empty]\n",
      "[10: Empty]\n",
      "[11: Empty]\n",
      "[12: Empty]\n",
      "[13: Empty]\n",
      "[14: Empty]\n",
      "[15: Sveta: 7]\n",
      "[16: Empty]\n",
      "[17: Empty]\n",
      "[18: Empty]\n",
      "[19: Empty]\n"
     ]
    }
   ],
   "source": [
    "# Видалення елементів\n",
    "hash_table.remove(\"Dima\")\n",
    "\n",
    "hash_table.print_table()"
   ]
  }
 ],
 "metadata": {
  "kernelspec": {
   "display_name": "Python 3 (ipykernel)",
   "language": "python",
   "name": "python3"
  },
  "language_info": {
   "codemirror_mode": {
    "name": "ipython",
    "version": 3
   },
   "file_extension": ".py",
   "mimetype": "text/x-python",
   "name": "python",
   "nbconvert_exporter": "python",
   "pygments_lexer": "ipython3",
   "version": "3.9.13"
  }
 },
 "nbformat": 4,
 "nbformat_minor": 5
}
