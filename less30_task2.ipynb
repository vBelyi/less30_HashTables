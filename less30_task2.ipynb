{
 "cells": [
  {
   "cell_type": "code",
   "execution_count": 14,
   "id": "a67bb958",
   "metadata": {},
   "outputs": [],
   "source": [
    "import bcrypt\n",
    "\n",
    "class UserAuthentication:\n",
    "    def __init__(self):\n",
    "        self.credentials = {}\n",
    "\n",
    "    def register(self, login, password):\n",
    "        if login not in self.credentials:\n",
    "            hashed_password = bcrypt.hashpw(password.encode(), bcrypt.gensalt())\n",
    "            self.credentials[login] = hashed_password\n",
    "            print(\"Користувач зареєстрований успішно.\")\n",
    "        else:\n",
    "            print(\"Користувач з таким логіном вже існує.\")\n",
    "\n",
    "    def login(self, login, password):\n",
    "        if login in self.credentials:\n",
    "            hashed_password = self.credentials[login]\n",
    "            if bcrypt.checkpw(password.encode(), hashed_password):\n",
    "                print(\"Авторизація пройшла успішно.\")\n",
    "            else:\n",
    "                print(\"Неправильний пароль.\")\n",
    "        else:\n",
    "            print(\"Користувача з таким логіном не знайдено.\")\n",
    "            \n",
    "    def print_users(self):\n",
    "        for login, hashed_password in self.credentials.items():\n",
    "            print(f\"Логін: {login}, Хешкод: {hashed_password.decode()}\")"
   ]
  },
  {
   "cell_type": "code",
   "execution_count": 20,
   "id": "e88cb93c",
   "metadata": {},
   "outputs": [
    {
     "name": "stdout",
     "output_type": "stream",
     "text": [
      "Введіть логін: 44\n",
      "Введіть пароль: 445\n",
      "Користувач зареєстрований успішно.\n"
     ]
    }
   ],
   "source": [
    "#Реєстрація користувача\n",
    "auth = UserAuthentication()\n",
    "login = input(\"Введіть логін: \")\n",
    "password = input(\"Введіть пароль: \")\n",
    "auth.register(login, password)"
   ]
  },
  {
   "cell_type": "code",
   "execution_count": 16,
   "id": "795b2902",
   "metadata": {},
   "outputs": [
    {
     "name": "stdout",
     "output_type": "stream",
     "text": [
      "Введіть логін: 33\n",
      "Введіть пароль: 33\n",
      "Авторизація пройшла успішно.\n"
     ]
    }
   ],
   "source": [
    "#Логін користувача\n",
    "login = input(\"Введіть логін: \")\n",
    "password = input(\"Введіть пароль: \")\n",
    "\n",
    "auth.login(login, password)"
   ]
  }
 ],
 "metadata": {
  "kernelspec": {
   "display_name": "Python 3 (ipykernel)",
   "language": "python",
   "name": "python3"
  },
  "language_info": {
   "codemirror_mode": {
    "name": "ipython",
    "version": 3
   },
   "file_extension": ".py",
   "mimetype": "text/x-python",
   "name": "python",
   "nbconvert_exporter": "python",
   "pygments_lexer": "ipython3",
   "version": "3.9.13"
  }
 },
 "nbformat": 4,
 "nbformat_minor": 5
}
